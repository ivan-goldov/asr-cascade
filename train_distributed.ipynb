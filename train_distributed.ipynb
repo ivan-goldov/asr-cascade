{
 "cells": [
  {
   "cell_type": "code",
   "execution_count": 153,
   "id": "c3d450dd",
   "metadata": {
    "cellId": "81ad9ta36pofw1bq8v7lyu"
   },
   "outputs": [
    {
     "name": "stderr",
     "output_type": "stream",
     "text": [
      "The disk was not committed to this checkpoint because the disk usage exceeds the 10 GB limit"
     ]
    },
    {
     "name": "stdout",
     "output_type": "stream",
     "text": [
      "Defaulting to user installation because normal site-packages is not writeable\n",
      "Requirement already satisfied: cyrtranslit in /home/jupyter/.local/lib/python3.7/site-packages (1.0)\n",
      "Requirement already satisfied: num2words in /home/jupyter/.local/lib/python3.7/site-packages (0.5.10)\n",
      "Requirement already satisfied: wandb in /home/jupyter/.local/lib/python3.7/site-packages (0.11.0)\n",
      "Requirement already satisfied: docopt>=0.6.2 in /usr/local/lib/python3.7/dist-packages (from num2words) (0.6.2)\n",
      "Requirement already satisfied: PyYAML in /usr/local/lib/python3.7/dist-packages (from wandb) (5.3.1)\n",
      "Requirement already satisfied: shortuuid>=0.5.0 in /usr/local/lib/python3.7/dist-packages (from wandb) (1.0.1)\n",
      "Requirement already satisfied: configparser>=3.8.1 in /usr/local/lib/python3.7/dist-packages (from wandb) (4.0.2)\n",
      "Requirement already satisfied: six>=1.13.0 in /kernel/lib/python3.7/site-packages (from wandb) (1.16.0)\n",
      "Requirement already satisfied: urllib3>=1.26.5 in /kernel/lib/python3.7/site-packages (from wandb) (1.26.6)\n",
      "Requirement already satisfied: requests<3,>=2.0.0 in /kernel/lib/python3.7/site-packages (from wandb) (2.25.1)\n",
      "Requirement already satisfied: GitPython>=1.0.0 in /usr/local/lib/python3.7/dist-packages (from wandb) (3.1.18)\n",
      "Requirement already satisfied: promise<3,>=2.0 in /usr/local/lib/python3.7/dist-packages (from wandb) (2.3)\n",
      "Requirement already satisfied: psutil>=5.0.0 in /kernel/lib/python3.7/site-packages (from wandb) (5.7.3)\n",
      "Requirement already satisfied: protobuf>=3.12.0 in /usr/local/lib/python3.7/dist-packages (from wandb) (3.17.3)\n",
      "Requirement already satisfied: sentry-sdk>=0.4.0 in /home/jupyter/.local/lib/python3.7/site-packages (from wandb) (1.3.1)\n",
      "Requirement already satisfied: subprocess32>=3.5.3 in /home/jupyter/.local/lib/python3.7/site-packages (from wandb) (3.5.4)\n",
      "Requirement already satisfied: docker-pycreds>=0.4.0 in /home/jupyter/.local/lib/python3.7/site-packages (from wandb) (0.4.0)\n",
      "Requirement already satisfied: Click!=8.0.0,>=7.0 in /usr/local/lib/python3.7/dist-packages (from wandb) (7.1.2)\n",
      "Requirement already satisfied: python-dateutil>=2.6.1 in /kernel/lib/python3.7/site-packages (from wandb) (2.8.2)\n",
      "Requirement already satisfied: pathtools in /home/jupyter/.local/lib/python3.7/site-packages (from wandb) (0.1.2)\n",
      "Requirement already satisfied: typing-extensions>=3.7.4.0 in /kernel/lib/python3.7/site-packages (from GitPython>=1.0.0->wandb) (3.10.0.0)\n",
      "Requirement already satisfied: gitdb<5,>=4.0.1 in /usr/local/lib/python3.7/dist-packages (from GitPython>=1.0.0->wandb) (4.0.7)\n",
      "Requirement already satisfied: smmap<5,>=3.0.1 in /usr/local/lib/python3.7/dist-packages (from gitdb<5,>=4.0.1->GitPython>=1.0.0->wandb) (4.0.0)\n",
      "Requirement already satisfied: certifi>=2017.4.17 in /kernel/lib/python3.7/site-packages (from requests<3,>=2.0.0->wandb) (2021.5.30)\n",
      "Requirement already satisfied: idna<3,>=2.5 in /kernel/lib/python3.7/site-packages (from requests<3,>=2.0.0->wandb) (2.10)\n",
      "Requirement already satisfied: chardet<5,>=3.0.2 in /kernel/lib/python3.7/site-packages (from requests<3,>=2.0.0->wandb) (4.0.0)\n",
      "\u001b[33mWARNING: You are using pip version 21.0.1; however, version 21.2.4 is available.\n",
      "You should consider upgrading via the '/usr/local/bin/python3 -m pip install --upgrade pip' command.\u001b[0m\n"
     ]
    }
   ],
   "source": [
    "#!g1.4\n",
    "%pip install cyrtranslit num2words wandb"
   ]
  },
  {
   "cell_type": "code",
   "execution_count": 154,
   "id": "56b4e97a",
   "metadata": {
    "cellId": "5z5g2facrnw33tcmff70ea"
   },
   "outputs": [
    {
     "name": "stderr",
     "output_type": "stream",
     "text": [
      "The disk was not committed to this checkpoint because the disk usage exceeds the 10 GB limitFailed to detect the name of this notebook, you can set it manually with the WANDB_NOTEBOOK_NAME environment variable to enable code saving.\n",
      "\u001b[34m\u001b[1mwandb\u001b[0m: Currently logged in as: \u001b[33mrediska0123\u001b[0m (use `wandb login --relogin` to force relogin)\n"
     ]
    },
    {
     "data": {
      "text/plain": [
       "True"
      ]
     },
     "metadata": {},
     "output_type": "display_data"
    }
   ],
   "source": [
    "#!g1.4\n",
    "import os\n",
    "import wandb\n",
    "\n",
    "num_gpus = 4\n",
    "\n",
    "os.environ['MASTER_ADDR'] = 'localhost'\n",
    "os.environ['MASTER_PORT'] = '8888'\n",
    "os.environ['WORLD_SIZE'] = str(num_gpus)\n",
    "\n",
    "wandb.login()"
   ]
  },
  {
   "cell_type": "code",
   "execution_count": 155,
   "id": "dd8bb880",
   "metadata": {
    "cellId": "tomgo771j8giixlf5b55i"
   },
   "outputs": [
    {
     "name": "stderr",
     "output_type": "stream",
     "text": [
      "The disk was not committed to this checkpoint because the disk usage exceeds the 10 GB limit"
     ]
    }
   ],
   "source": [
    "#!g1.4\n",
    "from train import SyntheticDataGenParams\n",
    "from evaluation.evaluation_method.greedy_evaluation import GreedyEvaluation\n",
    "\n",
    "train_p = SyntheticDataGenParams([0.3, 0.7], None)\n",
    "train_tables = [\n",
    "    ('yt-raw:data/yt_data/no_alice_spotter.json', 0.5),\n",
    "    ('yt-raw:data/yt_data/no_alice_quasar.json', 0.5),\n",
    "    ('yt-raw:data/yt_data/no_alice_rest.json', 1),\n",
    "    ('yt-raw:data/yt_data/no_alice_search_stroka.json', 20),\n",
    "    ('yt-raw:data/yt_data/no_alice_assistant.json', 20),\n",
    "    ('yt-raw:data/yt_data/no_alice_navi.json', 10),\n",
    "    ('yt-raw:data/yt_data/no_alice_texts_geq40.json', 20),\n",
    "    ('yt-raw:data/yt_data/silence.json', 2),\n",
    "    ('yt-raw:data/yt_data/cloud_transcribation_train.json', 35),\n",
    "    ('yt-raw:data/yt_data/ru_phone_acoustic_shuffled.json', 10),\n",
    "    ('yt-raw:data/yt_data/ru_voice_recorder_acoustic_shuffled.json', 10),\n",
    "    \n",
    "    ('kekos:data/yt_data/multichannel_train.json', 20),\n",
    "]\n",
    "\n",
    "test_p = [\n",
    "    SyntheticDataGenParams([1.0, 0.0], None, '1speaker'),\n",
    "    SyntheticDataGenParams([0.0, 1.0], 0.0, '2speakers_0.0gap'),\n",
    "    SyntheticDataGenParams([0.0, 1.0], 0.5, '2speakers_0.5gap'),\n",
    "    SyntheticDataGenParams([0.0, 1.0], 0.9, '2speakers_0.9gap'),\n",
    "]\n",
    "\n",
    "synthetic_test_tables = {\n",
    "    'spotter':                   ([('yt-raw:data/yt_data/no_alice_spotter.json', 1)], [], test_p),\n",
    "    'quasar':                    ([('yt-raw:data/yt_data/no_alice_quasar.json', 1)], [], test_p),\n",
    "    'rest':                      ([('yt-raw:data/yt_data/no_alice_rest.json', 1)], [], test_p),\n",
    "    'search_stroka':             ([('yt-raw:data/yt_data/no_alice_search_stroka.json', 1)], [], test_p),\n",
    "    'assistant':                 ([('yt-raw:data/yt_data/no_alice_assistant.json', 1)], [], test_p),\n",
    "    'navi':                      ([('yt-raw:data/yt_data/no_alice_navi.json', 1)], [], test_p),\n",
    "    'geq_40':                    ([('yt-raw:data/yt_data/no_alice_texts_geq40.json', 1)], [], test_p),\n",
    "    'silence':                   ([('yt-raw:data/yt_data/silence.json', 1)], [], test_p),\n",
    "    'cloud_transcribation_test': ([('yt-raw:data/validation_data/cloud_transcribation_test.json', 1)], [], test_p),\n",
    "    'phone_acoustic':            ([('yt-raw:data/yt_data/ru_phone_acoustic_shuffled.json', 1)], [], test_p),\n",
    "    'voice_recorder_acoustic':   ([('yt-raw:data/yt_data/ru_voice_recorder_acoustic_shuffled.json', 1)], [], test_p),\n",
    "    'common_voice':              ([('yt-raw:data/validation_data/common_voice_test.json', 1)], [GreedyEvaluation()], [test_p[0]]),\n",
    "}\n",
    "\n",
    "test_tables = {\n",
    "    'lecture': ('data/validation_data/lectures/data.json', [GreedyEvaluation()]),\n",
    "    'multichannel_test': ('data/validation_data/multichannel_test.json', [GreedyEvaluation()]),\n",
    "}"
   ]
  },
  {
   "cell_type": "code",
   "execution_count": 156,
   "id": "76924784",
   "metadata": {
    "cellId": "2aspszakn2hxjxusc8w5zq"
   },
   "outputs": [
    {
     "name": "stderr",
     "output_type": "stream",
     "text": [
      "The disk was not committed to this checkpoint because the disk usage exceeds the 10 GB limit"
     ]
    },
    {
     "name": "stdout",
     "output_type": "stream",
     "text": [
      "Snapshot to load: snapshots10x6/snapshot5176880\n"
     ]
    }
   ],
   "source": [
    "#!g1.4\n",
    "from common.train_utils import get_latest_snapshot_path\n",
    "\n",
    "snapshots_dir = 'snapshots10x6'\n",
    "snapshot_path = get_latest_snapshot_path(snapshots_dir)\n",
    "print('Snapshot to load: {}'.format(snapshot_path))"
   ]
  },
  {
   "cell_type": "code",
   "execution_count": 157,
   "id": "e5ca22bd",
   "metadata": {
    "cellId": "uddauuiz7neige7ys6p1b8"
   },
   "outputs": [
    {
     "name": "stderr",
     "output_type": "stream",
     "text": [
      "The disk was not committed to this checkpoint because the disk usage exceeds the 10 GB limit"
     ]
    },
    {
     "ename": "KeyboardInterrupt",
     "evalue": "",
     "output_type": "error",
     "traceback": [
      "\u001b[0;31m---------------------------------------------------------------------------\u001b[0m",
      "\u001b[0;31mKeyboardInterrupt\u001b[0m                         Traceback (most recent call last)",
      "\u001b[0;32m<ipython-input-5-9f5f970e8cdf>\u001b[0m in \u001b[0;36m<module>\u001b[0;34m\u001b[0m\n\u001b[1;32m      9\u001b[0m     \u001b[0msnapshots_dir\u001b[0m\u001b[0;34m,\u001b[0m \u001b[0msnapshot_path\u001b[0m\u001b[0;34m,\u001b[0m\u001b[0;34m\u001b[0m\u001b[0;34m\u001b[0m\u001b[0m\n\u001b[1;32m     10\u001b[0m     \u001b[0;34m'asr/configs/models/transformer10x6.json'\u001b[0m\u001b[0;34m,\u001b[0m \u001b[0;34m'asr/configs/features/asr_default_64.json'\u001b[0m\u001b[0;34m,\u001b[0m\u001b[0;34m\u001b[0m\u001b[0;34m\u001b[0m\u001b[0m\n\u001b[0;32m---> 11\u001b[0;31m     0.00005, 2000, snapshot_path is not None, 10000000))\n\u001b[0m\u001b[1;32m     12\u001b[0m \u001b[0;31m#\u001b[0m\u001b[0;34m\u001b[0m\u001b[0;34m\u001b[0m\u001b[0;34m\u001b[0m\u001b[0m\n",
      "\u001b[0;32m/usr/local/lib/python3.7/dist-packages/torch/multiprocessing/spawn.py\u001b[0m in \u001b[0;36mspawn\u001b[0;34m(fn, args, nprocs, join, daemon, start_method)\u001b[0m\n\u001b[1;32m    198\u001b[0m                ' torch.multiprocessing.start_process(...)' % start_method)\n\u001b[1;32m    199\u001b[0m         \u001b[0mwarnings\u001b[0m\u001b[0;34m.\u001b[0m\u001b[0mwarn\u001b[0m\u001b[0;34m(\u001b[0m\u001b[0mmsg\u001b[0m\u001b[0;34m)\u001b[0m\u001b[0;34m\u001b[0m\u001b[0;34m\u001b[0m\u001b[0m\n\u001b[0;32m--> 200\u001b[0;31m     \u001b[0;32mreturn\u001b[0m \u001b[0mstart_processes\u001b[0m\u001b[0;34m(\u001b[0m\u001b[0mfn\u001b[0m\u001b[0;34m,\u001b[0m \u001b[0margs\u001b[0m\u001b[0;34m,\u001b[0m \u001b[0mnprocs\u001b[0m\u001b[0;34m,\u001b[0m \u001b[0mjoin\u001b[0m\u001b[0;34m,\u001b[0m \u001b[0mdaemon\u001b[0m\u001b[0;34m,\u001b[0m \u001b[0mstart_method\u001b[0m\u001b[0;34m=\u001b[0m\u001b[0;34m'spawn'\u001b[0m\u001b[0;34m)\u001b[0m\u001b[0;34m\u001b[0m\u001b[0;34m\u001b[0m\u001b[0m\n\u001b[0m",
      "\u001b[0;32m/usr/local/lib/python3.7/dist-packages/torch/multiprocessing/spawn.py\u001b[0m in \u001b[0;36mstart_processes\u001b[0;34m(fn, args, nprocs, join, daemon, start_method)\u001b[0m\n\u001b[1;32m    156\u001b[0m \u001b[0;34m\u001b[0m\u001b[0m\n\u001b[1;32m    157\u001b[0m     \u001b[0;31m# Loop on join until it returns True or raises an exception.\u001b[0m\u001b[0;34m\u001b[0m\u001b[0;34m\u001b[0m\u001b[0;34m\u001b[0m\u001b[0m\n\u001b[0;32m--> 158\u001b[0;31m     \u001b[0;32mwhile\u001b[0m \u001b[0;32mnot\u001b[0m \u001b[0mcontext\u001b[0m\u001b[0;34m.\u001b[0m\u001b[0mjoin\u001b[0m\u001b[0;34m(\u001b[0m\u001b[0;34m)\u001b[0m\u001b[0;34m:\u001b[0m\u001b[0;34m\u001b[0m\u001b[0;34m\u001b[0m\u001b[0m\n\u001b[0m\u001b[1;32m    159\u001b[0m         \u001b[0;32mpass\u001b[0m\u001b[0;34m\u001b[0m\u001b[0;34m\u001b[0m\u001b[0m\n\u001b[1;32m    160\u001b[0m \u001b[0;34m\u001b[0m\u001b[0m\n",
      "\u001b[0;32m/usr/local/lib/python3.7/dist-packages/torch/multiprocessing/spawn.py\u001b[0m in \u001b[0;36mjoin\u001b[0;34m(self, timeout)\u001b[0m\n\u001b[1;32m     76\u001b[0m         ready = multiprocessing.connection.wait(\n\u001b[1;32m     77\u001b[0m             \u001b[0mself\u001b[0m\u001b[0;34m.\u001b[0m\u001b[0msentinels\u001b[0m\u001b[0;34m.\u001b[0m\u001b[0mkeys\u001b[0m\u001b[0;34m(\u001b[0m\u001b[0;34m)\u001b[0m\u001b[0;34m,\u001b[0m\u001b[0;34m\u001b[0m\u001b[0;34m\u001b[0m\u001b[0m\n\u001b[0;32m---> 78\u001b[0;31m             \u001b[0mtimeout\u001b[0m\u001b[0;34m=\u001b[0m\u001b[0mtimeout\u001b[0m\u001b[0;34m,\u001b[0m\u001b[0;34m\u001b[0m\u001b[0;34m\u001b[0m\u001b[0m\n\u001b[0m\u001b[1;32m     79\u001b[0m         )\n\u001b[1;32m     80\u001b[0m \u001b[0;34m\u001b[0m\u001b[0m\n",
      "\u001b[0;32m/usr/lib/python3.7/multiprocessing/connection.py\u001b[0m in \u001b[0;36mwait\u001b[0;34m(object_list, timeout)\u001b[0m\n\u001b[1;32m    919\u001b[0m \u001b[0;34m\u001b[0m\u001b[0m\n\u001b[1;32m    920\u001b[0m             \u001b[0;32mwhile\u001b[0m \u001b[0;32mTrue\u001b[0m\u001b[0;34m:\u001b[0m\u001b[0;34m\u001b[0m\u001b[0;34m\u001b[0m\u001b[0m\n\u001b[0;32m--> 921\u001b[0;31m                 \u001b[0mready\u001b[0m \u001b[0;34m=\u001b[0m \u001b[0mselector\u001b[0m\u001b[0;34m.\u001b[0m\u001b[0mselect\u001b[0m\u001b[0;34m(\u001b[0m\u001b[0mtimeout\u001b[0m\u001b[0;34m)\u001b[0m\u001b[0;34m\u001b[0m\u001b[0;34m\u001b[0m\u001b[0m\n\u001b[0m\u001b[1;32m    922\u001b[0m                 \u001b[0;32mif\u001b[0m \u001b[0mready\u001b[0m\u001b[0;34m:\u001b[0m\u001b[0;34m\u001b[0m\u001b[0;34m\u001b[0m\u001b[0m\n\u001b[1;32m    923\u001b[0m                     \u001b[0;32mreturn\u001b[0m \u001b[0;34m[\u001b[0m\u001b[0mkey\u001b[0m\u001b[0;34m.\u001b[0m\u001b[0mfileobj\u001b[0m \u001b[0;32mfor\u001b[0m \u001b[0;34m(\u001b[0m\u001b[0mkey\u001b[0m\u001b[0;34m,\u001b[0m \u001b[0mevents\u001b[0m\u001b[0;34m)\u001b[0m \u001b[0;32min\u001b[0m \u001b[0mready\u001b[0m\u001b[0;34m]\u001b[0m\u001b[0;34m\u001b[0m\u001b[0;34m\u001b[0m\u001b[0m\n",
      "\u001b[0;32m/usr/lib/python3.7/selectors.py\u001b[0m in \u001b[0;36mselect\u001b[0;34m(self, timeout)\u001b[0m\n\u001b[1;32m    413\u001b[0m         \u001b[0mready\u001b[0m \u001b[0;34m=\u001b[0m \u001b[0;34m[\u001b[0m\u001b[0;34m]\u001b[0m\u001b[0;34m\u001b[0m\u001b[0;34m\u001b[0m\u001b[0m\n\u001b[1;32m    414\u001b[0m         \u001b[0;32mtry\u001b[0m\u001b[0;34m:\u001b[0m\u001b[0;34m\u001b[0m\u001b[0;34m\u001b[0m\u001b[0m\n\u001b[0;32m--> 415\u001b[0;31m             \u001b[0mfd_event_list\u001b[0m \u001b[0;34m=\u001b[0m \u001b[0mself\u001b[0m\u001b[0;34m.\u001b[0m\u001b[0m_selector\u001b[0m\u001b[0;34m.\u001b[0m\u001b[0mpoll\u001b[0m\u001b[0;34m(\u001b[0m\u001b[0mtimeout\u001b[0m\u001b[0;34m)\u001b[0m\u001b[0;34m\u001b[0m\u001b[0;34m\u001b[0m\u001b[0m\n\u001b[0m\u001b[1;32m    416\u001b[0m         \u001b[0;32mexcept\u001b[0m \u001b[0mInterruptedError\u001b[0m\u001b[0;34m:\u001b[0m\u001b[0;34m\u001b[0m\u001b[0;34m\u001b[0m\u001b[0m\n\u001b[1;32m    417\u001b[0m             \u001b[0;32mreturn\u001b[0m \u001b[0mready\u001b[0m\u001b[0;34m\u001b[0m\u001b[0;34m\u001b[0m\u001b[0m\n",
      "\u001b[0;31mKeyboardInterrupt\u001b[0m: "
     ]
    }
   ],
   "source": [
    "#!g1.4\n",
    "import train\n",
    "from torch.multiprocessing import spawn\n",
    "\n",
    "spawn(train.train, nprocs=num_gpus, args=(\n",
    "    2,\n",
    "    train_tables, train_p,\n",
    "    synthetic_test_tables, test_tables,\n",
    "    300, 300, 100000,\n",
    "    snapshots_dir, snapshot_path,\n",
    "    'asr/configs/models/transformer10x6.json', 'asr/configs/features/asr_default_64.json',\n",
    "    0.00005, 2000, snapshot_path is not None, 10000000))"
   ]
  },
  {
   "cell_type": "code",
   "execution_count": null,
   "id": "9e6ff680",
   "metadata": {
    "cellId": "w4ute5xudvs8ejsln3c2"
   },
   "outputs": [],
   "source": [
    "#!g1.4\n"
   ]
  }
 ],
 "metadata": {
  "language_info": {
   "codemirror_mode": {
    "name": "ipython",
    "version": 3
   },
   "file_extension": ".py",
   "mimetype": "text/x-python",
   "name": "python",
   "nbconvert_exporter": "python",
   "pygments_lexer": "ipython3",
   "version": "3.7.7"
  },
  "notebookId": "2aea98ab-b40d-4c6b-990b-82828e1b69fa",
  "notebookPath": "train_distributed.ipynb",
  "ydsNotebookPath": "train_distributed.ipynb"
 },
 "nbformat": 4,
 "nbformat_minor": 5
}
