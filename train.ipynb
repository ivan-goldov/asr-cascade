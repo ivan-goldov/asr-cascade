{
  "nbformat" : 4,
  "nbformat_minor" : 5,
  "metadata" : {
    "notebookPath" : "train.ipynb",
    "language_info" : {
      "codemirror_mode" : {
        "name" : "ipython",
        "version" : 3
      },
      "name" : "python",
      "nbconvert_exporter" : "python",
      "pygments_lexer" : "ipython3",
      "file_extension" : ".py",
      "version" : "3.7.7",
      "mimetype" : "text/x-python"
    },
    "notebookId" : "64c24b6f-17ef-4df4-829b-4f15c8edc3c7",
    "kernelspec" : {
      "name" : "python3",
      "description" : "IPython kernel implementation for DataSphere",
      "spec" : {
        "language" : "python",
        "display_name" : "DataSphere Kernel",
        "codemirror_mode" : "python",
        "argv" : [ "/bin/true" ],
        "env" : { },
        "help_links" : [ ],
        "metadata" : {
          "app" : "YANDEX_DATASPHERE"
        }
      },
      "resources" : { },
      "display_name" : "DataSphere Kernel"
    }
  },
  "cells" : [ {
    "cell_type" : "code",
    "source" : "#!g1.1\nimport wandb\n\nwandb.login()",
    "metadata" : {
      "cellId" : "rf364ce9qm8z35ltmsboc8",
      "trusted" : true
    },
    "outputs" : [ {
      "output_type" : "stream",
      "name" : "stderr",
      "text" : "Failed to detect the name of this notebook, you can set it manually with the WANDB_NOTEBOOK_NAME environment variable to enable code saving.\n\u001B[34m\u001B[1mwandb\u001B[0m: Currently logged in as: \u001B[33mrediska0123\u001B[0m (use `wandb login --relogin` to force relogin)\n"
    }, {
      "output_type" : "display_data",
      "data" : {
        "text/plain" : "True"
      },
      "metadata" : { }
    } ],
    "execution_count" : 398
  }, {
    "cell_type" : "code",
    "source" : "#!g1.1\nfrom train import SyntheticDataGenParams\nfrom evaluation.evaluation_method.greedy_evaluation import GreedyEvaluation\n\ntrain_p = SyntheticDataGenParams([0.3, 0.7], None)\ntrain_tables = [\n    ('yt-raw:data/yt_data/no_alice_spotter.json', 0.5),\n    ('yt-raw:data/yt_data/no_alice_quasar.json', 0.5),\n    ('yt-raw:data/yt_data/no_alice_rest.json', 1),\n    ('yt-raw:data/yt_data/no_alice_search_stroka.json', 20),\n    ('yt-raw:data/yt_data/no_alice_assistant.json', 20),\n    ('yt-raw:data/yt_data/no_alice_navi.json', 10),\n    ('yt-raw:data/yt_data/no_alice_texts_geq40.json', 20),\n\n    ('yt-raw:data/yt_data/silence.json', 10),\n    ('yt-raw:data/yt_data/cloud_transcribation_train.json', 35),\n    ('yt-raw:data/yt_data/ru_phone_acoustic_shuffled.json', 10),\n    ('yt-raw:data/yt_data/ru_voice_recorder_acoustic_shuffled.json', 10),\n    \n    ('kekos:data/yt_data/multichannel_train.json', 10), # 100\n]\n\ntest_p = [\n    SyntheticDataGenParams([1.0, 0.0], None, '1speaker'),\n    SyntheticDataGenParams([0.0, 1.0], 0.0, '2speakers_0.0gap'),\n    SyntheticDataGenParams([0.0, 1.0], 0.5, '2speakers_0.5gap'),\n    SyntheticDataGenParams([0.0, 1.0], 0.9, '2speakers_0.9gap'),\n]\n\nsynthetic_test_tables = {\n    'spotter':                   ([('yt-raw:data/yt_data/no_alice_spotter.json', 1)], [], test_p),\n    'quasar':                    ([('yt-raw:data/yt_data/no_alice_quasar.json', 1)], [], test_p),\n    'rest':                      ([('yt-raw:data/yt_data/no_alice_rest.json', 1)], [], test_p),\n    'search_stroka':             ([('yt-raw:data/yt_data/no_alice_search_stroka.json', 1)], [], test_p),\n    'assistant':                 ([('yt-raw:data/yt_data/no_alice_assistant.json', 1)], [], test_p),\n    'navi':                      ([('yt-raw:data/yt_data/no_alice_navi.json', 1)], [], test_p),\n    'geq_40':                    ([('yt-raw:data/yt_data/no_alice_texts_geq40.json', 1)], [], test_p),\n    'silence':                   ([('yt-raw:data/yt_data/silence.json', 1)], [], test_p),\n    'cloud_transcribation_test': ([('yt-raw:data/validation_data/cloud_transcribation_test.json', 1)], [], test_p),\n    'phone_acoustic':            ([('yt-raw:data/yt_data/ru_phone_acoustic_shuffled.json', 1)], [], test_p),\n    'voice_recorder_acoustic':   ([('yt-raw:data/yt_data/ru_voice_recorder_acoustic_shuffled.json', 1)], [], test_p),\n    'common_voice':              ([('yt-raw:data/validation_data/common_voice_test.json', 1)], [GreedyEvaluation()], [test_p[0]]),\n}\n\ntest_tables = {\n    'lecture': ('data/validation_data/lectures/data.json', [GreedyEvaluation()]),\n    'multichannel-test': ('data/validation_data/multichannel_test.json', [GreedyEvaluation()]),\n}",
    "metadata" : {
      "cellId" : "tkfxh7kqjagruu5yes0d",
      "trusted" : true
    },
    "outputs" : [ ],
    "execution_count" : 399
  }, {
    "cell_type" : "code",
    "source" : "#!g1.1\nfrom common.train_utils import get_latest_snapshot_path\n\nsnapshots_dir = 'snapshots10x6'\nsnapshot_path = get_latest_snapshot_path(snapshots_dir)\nprint('Snapshot to load: {}'.format(snapshot_path))",
    "metadata" : {
      "cellId" : "hqa6if0kvals8w2z6sc5m",
      "trusted" : true
    },
    "outputs" : [ {
      "output_type" : "stream",
      "name" : "stdout",
      "text" : "Snapshot to load: snapshots10x6/snapshot4811968\n"
    } ],
    "execution_count" : 400
  }, {
    "cell_type" : "code",
    "source" : "#!g1.1\nimport train\n\ntrain.train(\n    None, 2,\n    train_tables, train_p,\n    synthetic_test_tables, test_tables,\n    300, 300, 100000,  # 300, 300\n    snapshots_dir, snapshot_path,\n    'asr/configs/models/transformer10x6.json', 'asr/configs/features/asr_default_64.json',\n    0.0001, 2000, snapshot_path is not None, 10000000)",
    "metadata" : {
      "cellId" : "nl9c28y5ponym2p8m2mwm",
      "trusted" : true
    },
    "outputs" : [ {
      "output_type" : "display_data",
      "data" : {
        "text/plain" : "<IPython.core.display.HTML object>",
        "text/html" : "\n                Tracking run with wandb version 0.11.0<br/>\n                Syncing run <strong style=\"color:#cdcd00\">eval_loss_None</strong> to <a href=\"https://wandb.ai\" target=\"_blank\">Weights & Biases</a> <a href=\"https://docs.wandb.com/integrations/jupyter.html\" target=\"_blank\">(Documentation)</a>.<br/>\n                Project page: <a href=\"https://wandb.ai/rediska0123/transformer10x6\" target=\"_blank\">https://wandb.ai/rediska0123/transformer10x6</a><br/>\n                Run page: <a href=\"https://wandb.ai/rediska0123/transformer10x6/runs/1hlvkafe\" target=\"_blank\">https://wandb.ai/rediska0123/transformer10x6/runs/1hlvkafe</a><br/>\n                Run data is saved locally in <code>/home/jupyter/work/resources/wandb/run-20210910_123432-1hlvkafe</code><br/><br/>\n            "
      },
      "metadata" : { }
    }, {
      "output_type" : "display_data",
      "data" : {
        "text/plain" : "HBox(children=(HTML(value=''), FloatProgress(value=1.0, bar_style='info', layout=Layout(width='20px'), max=1.0…",
        "application/vnd.jupyter.widget-view+json" : {
          "version_major" : 2,
          "version_minor" : 0,
          "model_id" : "5601472b43634df3b5d244b0e165c292"
        }
      },
      "metadata" : { }
    }, {
      "output_type" : "display_data",
      "data" : {
        "text/plain" : "HBox(children=(HTML(value=''), FloatProgress(value=1.0, bar_style='info', layout=Layout(width='20px'), max=1.0…",
        "application/vnd.jupyter.widget-view+json" : {
          "version_major" : 2,
          "version_minor" : 0,
          "model_id" : "b17996e79de74ceba76bc7d5b6afe8d2"
        }
      },
      "metadata" : { }
    }, {
      "output_type" : "display_data",
      "data" : {
        "text/plain" : "HBox(children=(HTML(value=''), FloatProgress(value=1.0, bar_style='info', layout=Layout(width='20px'), max=1.0…",
        "application/vnd.jupyter.widget-view+json" : {
          "version_major" : 2,
          "version_minor" : 0,
          "model_id" : "5d126869143c48dfab5e35f5a7389109"
        }
      },
      "metadata" : { }
    }, {
      "output_type" : "display_data",
      "data" : {
        "text/plain" : "HBox(children=(HTML(value=''), FloatProgress(value=1.0, bar_style='info', layout=Layout(width='20px'), max=1.0…",
        "application/vnd.jupyter.widget-view+json" : {
          "version_major" : 2,
          "version_minor" : 0,
          "model_id" : "5a9879e17c644f5ca8f8f526e49b9edc"
        }
      },
      "metadata" : { }
    }, {
      "output_type" : "display_data",
      "data" : {
        "text/plain" : "HBox(children=(HTML(value=''), FloatProgress(value=1.0, bar_style='info', layout=Layout(width='20px'), max=1.0…",
        "application/vnd.jupyter.widget-view+json" : {
          "version_major" : 2,
          "version_minor" : 0,
          "model_id" : "d8763125136647d7b6dcaabc1bddff0a"
        }
      },
      "metadata" : { }
    }, {
      "output_type" : "display_data",
      "data" : {
        "text/plain" : "HBox(children=(HTML(value=''), FloatProgress(value=1.0, bar_style='info', layout=Layout(width='20px'), max=1.0…",
        "application/vnd.jupyter.widget-view+json" : {
          "version_major" : 2,
          "version_minor" : 0,
          "model_id" : "23cfdc5356e94907a564cc443ad6d1e0"
        }
      },
      "metadata" : { }
    }, {
      "output_type" : "display_data",
      "data" : {
        "text/plain" : "HBox(children=(HTML(value=''), FloatProgress(value=1.0, bar_style='info', layout=Layout(width='20px'), max=1.0…",
        "application/vnd.jupyter.widget-view+json" : {
          "version_major" : 2,
          "version_minor" : 0,
          "model_id" : "e1ce6db2875b4303a774e82dbe2a39ad"
        }
      },
      "metadata" : { }
    }, {
      "output_type" : "display_data",
      "data" : {
        "text/plain" : "HBox(children=(HTML(value=''), FloatProgress(value=1.0, bar_style='info', layout=Layout(width='20px'), max=1.0…",
        "application/vnd.jupyter.widget-view+json" : {
          "version_major" : 2,
          "version_minor" : 0,
          "model_id" : "aa1b22f7c7934f1e9fe98b5cf2cebcbf"
        }
      },
      "metadata" : { }
    }, {
      "output_type" : "error",
      "ename" : "KeyboardInterrupt",
      "evalue" : "",
      "traceback" : [ "\u001B[0;31m---------------------------------------------------------------------------\u001B[0m", "\u001B[0;31mKeyboardInterrupt\u001B[0m                         Traceback (most recent call last)", "\u001B[0;32m<ipython-input-4-14838fced7c2>\u001B[0m in \u001B[0;36m<module>\u001B[0;34m\u001B[0m\n\u001B[1;32m      8\u001B[0m     \u001B[0msnapshots_dir\u001B[0m\u001B[0;34m,\u001B[0m \u001B[0msnapshot_path\u001B[0m\u001B[0;34m,\u001B[0m\u001B[0;34m\u001B[0m\u001B[0;34m\u001B[0m\u001B[0m\n\u001B[1;32m      9\u001B[0m     \u001B[0;34m'asr/configs/models/transformer10x6.json'\u001B[0m\u001B[0;34m,\u001B[0m \u001B[0;34m'asr/configs/features/asr_default_64.json'\u001B[0m\u001B[0;34m,\u001B[0m\u001B[0;34m\u001B[0m\u001B[0;34m\u001B[0m\u001B[0m\n\u001B[0;32m---> 10\u001B[0;31m     0.0001, 2000, snapshot_path is not None, 10000000)\n\u001B[0m\u001B[1;32m     11\u001B[0m \u001B[0;31m#\u001B[0m\u001B[0;34m\u001B[0m\u001B[0;34m\u001B[0m\u001B[0;34m\u001B[0m\u001B[0m\n", "\u001B[0;32m~/work/resources/train.py\u001B[0m in \u001B[0;36mtrain\u001B[0;34m(local_rank, max_speakers_num, train_tables, synthetic_train_params, synthetic_test_tables, test_tables, train_frequency, test_frequency, save_frequency, snapshots_dir, snapshot_path, model_def_path, features_config_path, lr, epoch_duration_hours, restore_latest_snapshot, epochs_num)\u001B[0m\n\u001B[1;32m    279\u001B[0m                       \u001B[0mepoch_duration_limit_seconds\u001B[0m\u001B[0;34m=\u001B[0m\u001B[0mepoch_duration_hours\u001B[0m \u001B[0;34m*\u001B[0m \u001B[0;36m60\u001B[0m \u001B[0;34m*\u001B[0m \u001B[0;36m60\u001B[0m\u001B[0;34m,\u001B[0m\u001B[0;34m\u001B[0m\u001B[0;34m\u001B[0m\u001B[0m\n\u001B[1;32m    280\u001B[0m                       \u001B[0mbatch_log_frequency\u001B[0m\u001B[0;34m=\u001B[0m\u001B[0mtrain_frequency\u001B[0m\u001B[0;34m,\u001B[0m\u001B[0;34m\u001B[0m\u001B[0;34m\u001B[0m\u001B[0m\n\u001B[0;32m--> 281\u001B[0;31m                       test_log_frequency=test_frequency)\n\u001B[0m\u001B[1;32m    282\u001B[0m \u001B[0;34m\u001B[0m\u001B[0m\n\u001B[1;32m    283\u001B[0m         \u001B[0mLOG\u001B[0m\u001B[0;34m.\u001B[0m\u001B[0mdebug\u001B[0m\u001B[0;34m(\u001B[0m\u001B[0;34m\"Check output before THAT LINE\\n\"\u001B[0m\u001B[0;34m)\u001B[0m\u001B[0;34m\u001B[0m\u001B[0;34m\u001B[0m\u001B[0m\n", "\u001B[0;32m~/work/resources/asr/train.py\u001B[0m in \u001B[0;36mepoch\u001B[0;34m(self, data_loader, dictionary, epoch_duration_limit_seconds, batch_log_frequency, test_log_frequency)\u001B[0m\n\u001B[1;32m    197\u001B[0m                                                           output=result.output)\n\u001B[1;32m    198\u001B[0m                 \u001B[0;32mif\u001B[0m \u001B[0mcurrent_step\u001B[0m \u001B[0;34m%\u001B[0m \u001B[0mtest_log_frequency\u001B[0m \u001B[0;34m==\u001B[0m \u001B[0;36m0\u001B[0m\u001B[0;34m:\u001B[0m\u001B[0;34m\u001B[0m\u001B[0;34m\u001B[0m\u001B[0m\n\u001B[0;32m--> 199\u001B[0;31m                     \u001B[0mself\u001B[0m\u001B[0;34m.\u001B[0m\u001B[0m_progress_listener\u001B[0m\u001B[0;34m.\u001B[0m\u001B[0mon_test_freq\u001B[0m\u001B[0;34m(\u001B[0m\u001B[0mprogress_tracker\u001B[0m\u001B[0;34m=\u001B[0m\u001B[0mself\u001B[0m\u001B[0;34m.\u001B[0m\u001B[0m_progress_tracker\u001B[0m\u001B[0;34m)\u001B[0m\u001B[0;34m\u001B[0m\u001B[0;34m\u001B[0m\u001B[0m\n\u001B[0m\u001B[1;32m    200\u001B[0m \u001B[0;34m\u001B[0m\u001B[0m\n\u001B[1;32m    201\u001B[0m                 \u001B[0mself\u001B[0m\u001B[0;34m.\u001B[0m\u001B[0m_progress_tracker\u001B[0m\u001B[0;34m.\u001B[0m\u001B[0mfinish_batch\u001B[0m\u001B[0;34m(\u001B[0m\u001B[0;34m)\u001B[0m\u001B[0;34m\u001B[0m\u001B[0;34m\u001B[0m\u001B[0m\n", "\u001B[0;32m~/work/resources/common/train_utils.py\u001B[0m in \u001B[0;36mon_test_freq\u001B[0;34m(self, progress_tracker)\u001B[0m\n\u001B[1;32m    249\u001B[0m     \u001B[0;32mdef\u001B[0m \u001B[0mon_test_freq\u001B[0m\u001B[0;34m(\u001B[0m\u001B[0mself\u001B[0m\u001B[0;34m,\u001B[0m \u001B[0mprogress_tracker\u001B[0m\u001B[0;34m:\u001B[0m \u001B[0mProgressTracker\u001B[0m\u001B[0;34m)\u001B[0m\u001B[0;34m:\u001B[0m\u001B[0;34m\u001B[0m\u001B[0;34m\u001B[0m\u001B[0m\n\u001B[1;32m    250\u001B[0m         \u001B[0;32mfor\u001B[0m \u001B[0mlistener\u001B[0m \u001B[0;32min\u001B[0m \u001B[0mself\u001B[0m\u001B[0;34m.\u001B[0m\u001B[0m_all\u001B[0m\u001B[0;34m:\u001B[0m\u001B[0;34m\u001B[0m\u001B[0;34m\u001B[0m\u001B[0m\n\u001B[0;32m--> 251\u001B[0;31m             \u001B[0mlistener\u001B[0m\u001B[0;34m.\u001B[0m\u001B[0mon_test_freq\u001B[0m\u001B[0;34m(\u001B[0m\u001B[0mprogress_tracker\u001B[0m\u001B[0;34m)\u001B[0m\u001B[0;34m\u001B[0m\u001B[0;34m\u001B[0m\u001B[0m\n\u001B[0m\u001B[1;32m    252\u001B[0m \u001B[0;34m\u001B[0m\u001B[0m\n\u001B[1;32m    253\u001B[0m     \u001B[0;32mdef\u001B[0m \u001B[0mafter_finish_batch\u001B[0m\u001B[0;34m(\u001B[0m\u001B[0mself\u001B[0m\u001B[0;34m)\u001B[0m\u001B[0;34m:\u001B[0m\u001B[0;34m\u001B[0m\u001B[0;34m\u001B[0m\u001B[0m\n", "\u001B[0;32m~/work/resources/asr/train.py\u001B[0m in \u001B[0;36mon_test_freq\u001B[0;34m(self, progress_tracker)\u001B[0m\n\u001B[1;32m     80\u001B[0m                     \u001B[0mreferences\u001B[0m\u001B[0;34m,\u001B[0m \u001B[0mhypotheses\u001B[0m \u001B[0;34m=\u001B[0m \u001B[0;34m[\u001B[0m\u001B[0;34m]\u001B[0m\u001B[0;34m,\u001B[0m \u001B[0;34m[\u001B[0m\u001B[0;34m]\u001B[0m\u001B[0;34m\u001B[0m\u001B[0;34m\u001B[0m\u001B[0m\n\u001B[1;32m     81\u001B[0m                     \u001B[0;32mfor\u001B[0m \u001B[0mbatch\u001B[0m \u001B[0;32min\u001B[0m \u001B[0mbatches\u001B[0m\u001B[0;34m:\u001B[0m\u001B[0;34m\u001B[0m\u001B[0;34m\u001B[0m\u001B[0m\n\u001B[0;32m---> 82\u001B[0;31m                         \u001B[0mhyps\u001B[0m\u001B[0;34m,\u001B[0m \u001B[0m_\u001B[0m\u001B[0;34m,\u001B[0m \u001B[0mrefs\u001B[0m \u001B[0;34m=\u001B[0m \u001B[0mevaluation_method\u001B[0m\u001B[0;34m.\u001B[0m\u001B[0mevaluate\u001B[0m\u001B[0;34m(\u001B[0m\u001B[0mself\u001B[0m\u001B[0;34m.\u001B[0m\u001B[0m_model\u001B[0m\u001B[0;34m,\u001B[0m \u001B[0mself\u001B[0m\u001B[0;34m.\u001B[0m\u001B[0m_dictionary\u001B[0m\u001B[0;34m,\u001B[0m \u001B[0mbatch\u001B[0m\u001B[0;34m)\u001B[0m\u001B[0;34m\u001B[0m\u001B[0;34m\u001B[0m\u001B[0m\n\u001B[0m\u001B[1;32m     83\u001B[0m                         \u001B[0mreferences\u001B[0m \u001B[0;34m+=\u001B[0m \u001B[0mrefs\u001B[0m\u001B[0;34m\u001B[0m\u001B[0;34m\u001B[0m\u001B[0m\n\u001B[1;32m     84\u001B[0m                         \u001B[0mhypotheses\u001B[0m \u001B[0;34m+=\u001B[0m \u001B[0mhyps\u001B[0m\u001B[0;34m\u001B[0m\u001B[0;34m\u001B[0m\u001B[0m\n", "\u001B[0;32m~/work/resources/evaluation/evaluation_method/generator_evaluation_method.py\u001B[0m in \u001B[0;36mevaluate\u001B[0;34m(self, model, dictionary, batch)\u001B[0m\n\u001B[1;32m     33\u001B[0m         \u001B[0;32mfor\u001B[0m \u001B[0mfeatures\u001B[0m\u001B[0;34m,\u001B[0m \u001B[0mfeatures_len\u001B[0m \u001B[0;32min\u001B[0m \u001B[0mzip\u001B[0m\u001B[0;34m(\u001B[0m\u001B[0mbatch\u001B[0m\u001B[0;34m.\u001B[0m\u001B[0mfeatures\u001B[0m\u001B[0;34m,\u001B[0m \u001B[0mbatch\u001B[0m\u001B[0;34m.\u001B[0m\u001B[0mfeatures_lengths\u001B[0m\u001B[0;34m)\u001B[0m\u001B[0;34m:\u001B[0m\u001B[0;34m\u001B[0m\u001B[0;34m\u001B[0m\u001B[0m\n\u001B[1;32m     34\u001B[0m             \u001B[0mf\u001B[0m \u001B[0;34m=\u001B[0m \u001B[0mfeatures\u001B[0m\u001B[0;34m[\u001B[0m\u001B[0;34m:\u001B[0m\u001B[0;34m,\u001B[0m \u001B[0;34m:\u001B[0m\u001B[0mfeatures_len\u001B[0m\u001B[0;34m]\u001B[0m\u001B[0;34m\u001B[0m\u001B[0;34m\u001B[0m\u001B[0m\n\u001B[0;32m---> 35\u001B[0;31m             \u001B[0mpreds\u001B[0m \u001B[0;34m=\u001B[0m \u001B[0mgenerator\u001B[0m\u001B[0;34m(\u001B[0m\u001B[0mf\u001B[0m\u001B[0;34m.\u001B[0m\u001B[0mreshape\u001B[0m\u001B[0;34m(\u001B[0m\u001B[0;36m1\u001B[0m\u001B[0;34m,\u001B[0m \u001B[0mf\u001B[0m\u001B[0;34m.\u001B[0m\u001B[0mshape\u001B[0m\u001B[0;34m[\u001B[0m\u001B[0;36m0\u001B[0m\u001B[0;34m]\u001B[0m\u001B[0;34m,\u001B[0m \u001B[0mf\u001B[0m\u001B[0;34m.\u001B[0m\u001B[0mshape\u001B[0m\u001B[0;34m[\u001B[0m\u001B[0;36m1\u001B[0m\u001B[0;34m]\u001B[0m\u001B[0;34m)\u001B[0m\u001B[0;34m)\u001B[0m\u001B[0;34m\u001B[0m\u001B[0;34m\u001B[0m\u001B[0m\n\u001B[0m\u001B[1;32m     36\u001B[0m             \u001B[0mh\u001B[0m\u001B[0;34m,\u001B[0m \u001B[0mp\u001B[0m \u001B[0;34m=\u001B[0m \u001B[0;34m[\u001B[0m\u001B[0;34m]\u001B[0m\u001B[0;34m,\u001B[0m \u001B[0;34m[\u001B[0m\u001B[0;34m]\u001B[0m\u001B[0;34m\u001B[0m\u001B[0;34m\u001B[0m\u001B[0m\n\u001B[1;32m     37\u001B[0m             \u001B[0;32mfor\u001B[0m \u001B[0ms\u001B[0m\u001B[0;34m,\u001B[0m \u001B[0mpred\u001B[0m \u001B[0;32min\u001B[0m \u001B[0menumerate\u001B[0m\u001B[0;34m(\u001B[0m\u001B[0mpreds\u001B[0m\u001B[0;34m)\u001B[0m\u001B[0;34m:\u001B[0m\u001B[0;34m\u001B[0m\u001B[0;34m\u001B[0m\u001B[0m\n", "\u001B[0;32m~/work/resources/asr/evaluation/generator.py\u001B[0m in \u001B[0;36m__call__\u001B[0;34m(self, sample)\u001B[0m\n\u001B[1;32m     35\u001B[0m             decoder_result: DecoderResult = self._model.decoder(encoder_result=encoder_result,\n\u001B[1;32m     36\u001B[0m                                                                 \u001B[0mtexts\u001B[0m\u001B[0;34m=\u001B[0m\u001B[0mprev_tokens_tensor\u001B[0m\u001B[0;34m,\u001B[0m\u001B[0;34m\u001B[0m\u001B[0;34m\u001B[0m\u001B[0m\n\u001B[0;32m---> 37\u001B[0;31m                                                                 text_lengths=[None for _ in range(speakers_num)])\n\u001B[0m\u001B[1;32m     38\u001B[0m             \u001B[0mnext_tokens\u001B[0m \u001B[0;34m=\u001B[0m \u001B[0;34m[\u001B[0m\u001B[0mdecoder_result\u001B[0m\u001B[0;34m.\u001B[0m\u001B[0moutput\u001B[0m\u001B[0;34m[\u001B[0m\u001B[0ms\u001B[0m\u001B[0;34m]\u001B[0m\u001B[0;34m[\u001B[0m\u001B[0;36m0\u001B[0m\u001B[0;34m,\u001B[0m \u001B[0;34m-\u001B[0m\u001B[0;36m1\u001B[0m\u001B[0;34m]\u001B[0m\u001B[0;34m.\u001B[0m\u001B[0margmax\u001B[0m\u001B[0;34m(\u001B[0m\u001B[0;34m)\u001B[0m\u001B[0;34m.\u001B[0m\u001B[0mitem\u001B[0m\u001B[0;34m(\u001B[0m\u001B[0;34m)\u001B[0m \u001B[0;32mfor\u001B[0m \u001B[0ms\u001B[0m \u001B[0;32min\u001B[0m \u001B[0mrange\u001B[0m\u001B[0;34m(\u001B[0m\u001B[0mspeakers_num\u001B[0m\u001B[0;34m)\u001B[0m\u001B[0;34m]\u001B[0m\u001B[0;34m\u001B[0m\u001B[0;34m\u001B[0m\u001B[0m\n\u001B[1;32m     39\u001B[0m             \u001B[0;32mfor\u001B[0m \u001B[0ms\u001B[0m \u001B[0;32min\u001B[0m \u001B[0mrange\u001B[0m\u001B[0;34m(\u001B[0m\u001B[0mspeakers_num\u001B[0m\u001B[0;34m)\u001B[0m\u001B[0;34m:\u001B[0m\u001B[0;34m\u001B[0m\u001B[0;34m\u001B[0m\u001B[0m\n", "\u001B[0;32m/usr/local/lib/python3.7/dist-packages/torch/nn/modules/module.py\u001B[0m in \u001B[0;36m_call_impl\u001B[0;34m(self, *input, **kwargs)\u001B[0m\n\u001B[1;32m    720\u001B[0m             \u001B[0mresult\u001B[0m \u001B[0;34m=\u001B[0m \u001B[0mself\u001B[0m\u001B[0;34m.\u001B[0m\u001B[0m_slow_forward\u001B[0m\u001B[0;34m(\u001B[0m\u001B[0;34m*\u001B[0m\u001B[0minput\u001B[0m\u001B[0;34m,\u001B[0m \u001B[0;34m**\u001B[0m\u001B[0mkwargs\u001B[0m\u001B[0;34m)\u001B[0m\u001B[0;34m\u001B[0m\u001B[0;34m\u001B[0m\u001B[0m\n\u001B[1;32m    721\u001B[0m         \u001B[0;32melse\u001B[0m\u001B[0;34m:\u001B[0m\u001B[0;34m\u001B[0m\u001B[0;34m\u001B[0m\u001B[0m\n\u001B[0;32m--> 722\u001B[0;31m             \u001B[0mresult\u001B[0m \u001B[0;34m=\u001B[0m \u001B[0mself\u001B[0m\u001B[0;34m.\u001B[0m\u001B[0mforward\u001B[0m\u001B[0;34m(\u001B[0m\u001B[0;34m*\u001B[0m\u001B[0minput\u001B[0m\u001B[0;34m,\u001B[0m \u001B[0;34m**\u001B[0m\u001B[0mkwargs\u001B[0m\u001B[0;34m)\u001B[0m\u001B[0;34m\u001B[0m\u001B[0;34m\u001B[0m\u001B[0m\n\u001B[0m\u001B[1;32m    723\u001B[0m         for hook in itertools.chain(\n\u001B[1;32m    724\u001B[0m                 \u001B[0m_global_forward_hooks\u001B[0m\u001B[0;34m.\u001B[0m\u001B[0mvalues\u001B[0m\u001B[0;34m(\u001B[0m\u001B[0;34m)\u001B[0m\u001B[0;34m,\u001B[0m\u001B[0;34m\u001B[0m\u001B[0;34m\u001B[0m\u001B[0m\n", "\u001B[0;32m~/work/resources/asr/models/encoder_decoder.py\u001B[0m in \u001B[0;36mforward\u001B[0;34m(self, encoder_result, texts, text_lengths)\u001B[0m\n\u001B[1;32m    259\u001B[0m                                \u001B[0minput_square_mask\u001B[0m\u001B[0;34m=\u001B[0m\u001B[0mtgt_mask\u001B[0m\u001B[0;34m,\u001B[0m\u001B[0;34m\u001B[0m\u001B[0;34m\u001B[0m\u001B[0m\n\u001B[1;32m    260\u001B[0m                                \u001B[0minput_padding_mask\u001B[0m\u001B[0;34m=\u001B[0m\u001B[0mtgt_padding_mask\u001B[0m\u001B[0;34m,\u001B[0m\u001B[0;34m\u001B[0m\u001B[0;34m\u001B[0m\u001B[0m\n\u001B[0;32m--> 261\u001B[0;31m                                memory_padding_mask=encoder_result.transformer_encoder_padding_mask)\n\u001B[0m\u001B[1;32m    262\u001B[0m             \u001B[0;32melse\u001B[0m\u001B[0;34m:\u001B[0m\u001B[0;34m\u001B[0m\u001B[0;34m\u001B[0m\u001B[0m\n\u001B[1;32m    263\u001B[0m                 \u001B[0;32mraise\u001B[0m \u001B[0mException\u001B[0m\u001B[0;34m(\u001B[0m\u001B[0;34mf\"Unknown decoder layer: {layer}\"\u001B[0m\u001B[0;34m)\u001B[0m\u001B[0;34m\u001B[0m\u001B[0;34m\u001B[0m\u001B[0m\n", "\u001B[0;32m/usr/local/lib/python3.7/dist-packages/torch/nn/modules/module.py\u001B[0m in \u001B[0;36m_call_impl\u001B[0;34m(self, *input, **kwargs)\u001B[0m\n\u001B[1;32m    720\u001B[0m             \u001B[0mresult\u001B[0m \u001B[0;34m=\u001B[0m \u001B[0mself\u001B[0m\u001B[0;34m.\u001B[0m\u001B[0m_slow_forward\u001B[0m\u001B[0;34m(\u001B[0m\u001B[0;34m*\u001B[0m\u001B[0minput\u001B[0m\u001B[0;34m,\u001B[0m \u001B[0;34m**\u001B[0m\u001B[0mkwargs\u001B[0m\u001B[0;34m)\u001B[0m\u001B[0;34m\u001B[0m\u001B[0;34m\u001B[0m\u001B[0m\n\u001B[1;32m    721\u001B[0m         \u001B[0;32melse\u001B[0m\u001B[0;34m:\u001B[0m\u001B[0;34m\u001B[0m\u001B[0;34m\u001B[0m\u001B[0m\n\u001B[0;32m--> 722\u001B[0;31m             \u001B[0mresult\u001B[0m \u001B[0;34m=\u001B[0m \u001B[0mself\u001B[0m\u001B[0;34m.\u001B[0m\u001B[0mforward\u001B[0m\u001B[0;34m(\u001B[0m\u001B[0;34m*\u001B[0m\u001B[0minput\u001B[0m\u001B[0;34m,\u001B[0m \u001B[0;34m**\u001B[0m\u001B[0mkwargs\u001B[0m\u001B[0;34m)\u001B[0m\u001B[0;34m\u001B[0m\u001B[0;34m\u001B[0m\u001B[0m\n\u001B[0m\u001B[1;32m    723\u001B[0m         for hook in itertools.chain(\n\u001B[1;32m    724\u001B[0m                 \u001B[0m_global_forward_hooks\u001B[0m\u001B[0;34m.\u001B[0m\u001B[0mvalues\u001B[0m\u001B[0;34m(\u001B[0m\u001B[0;34m)\u001B[0m\u001B[0;34m,\u001B[0m\u001B[0;34m\u001B[0m\u001B[0;34m\u001B[0m\u001B[0m\n", "\u001B[0;32m~/work/resources/common/module/transformer.py\u001B[0m in \u001B[0;36mforward\u001B[0;34m(self, input, memory, input_square_mask, memory_square_mask, input_padding_mask, memory_padding_mask)\u001B[0m\n\u001B[1;32m     81\u001B[0m                            \u001B[0mmemory_mask\u001B[0m\u001B[0;34m=\u001B[0m\u001B[0mmemory_square_mask\u001B[0m\u001B[0;34m,\u001B[0m\u001B[0;34m\u001B[0m\u001B[0;34m\u001B[0m\u001B[0m\n\u001B[1;32m     82\u001B[0m                            \u001B[0mtgt_key_padding_mask\u001B[0m\u001B[0;34m=\u001B[0m\u001B[0minput_padding_mask\u001B[0m\u001B[0;34m,\u001B[0m\u001B[0;34m\u001B[0m\u001B[0;34m\u001B[0m\u001B[0m\n\u001B[0;32m---> 83\u001B[0;31m                            memory_key_padding_mask=memory_padding_mask)\n\u001B[0m\u001B[1;32m     84\u001B[0m \u001B[0;34m\u001B[0m\u001B[0m\n\u001B[1;32m     85\u001B[0m         \u001B[0;32mif\u001B[0m \u001B[0mself\u001B[0m\u001B[0;34m.\u001B[0m\u001B[0mfinal_norm\u001B[0m \u001B[0;32mis\u001B[0m \u001B[0;32mnot\u001B[0m \u001B[0;32mNone\u001B[0m\u001B[0;34m:\u001B[0m\u001B[0;34m\u001B[0m\u001B[0;34m\u001B[0m\u001B[0m\n", "\u001B[0;32m/usr/local/lib/python3.7/dist-packages/torch/nn/modules/module.py\u001B[0m in \u001B[0;36m_call_impl\u001B[0;34m(self, *input, **kwargs)\u001B[0m\n\u001B[1;32m    720\u001B[0m             \u001B[0mresult\u001B[0m \u001B[0;34m=\u001B[0m \u001B[0mself\u001B[0m\u001B[0;34m.\u001B[0m\u001B[0m_slow_forward\u001B[0m\u001B[0;34m(\u001B[0m\u001B[0;34m*\u001B[0m\u001B[0minput\u001B[0m\u001B[0;34m,\u001B[0m \u001B[0;34m**\u001B[0m\u001B[0mkwargs\u001B[0m\u001B[0;34m)\u001B[0m\u001B[0;34m\u001B[0m\u001B[0;34m\u001B[0m\u001B[0m\n\u001B[1;32m    721\u001B[0m         \u001B[0;32melse\u001B[0m\u001B[0;34m:\u001B[0m\u001B[0;34m\u001B[0m\u001B[0;34m\u001B[0m\u001B[0m\n\u001B[0;32m--> 722\u001B[0;31m             \u001B[0mresult\u001B[0m \u001B[0;34m=\u001B[0m \u001B[0mself\u001B[0m\u001B[0;34m.\u001B[0m\u001B[0mforward\u001B[0m\u001B[0;34m(\u001B[0m\u001B[0;34m*\u001B[0m\u001B[0minput\u001B[0m\u001B[0;34m,\u001B[0m \u001B[0;34m**\u001B[0m\u001B[0mkwargs\u001B[0m\u001B[0;34m)\u001B[0m\u001B[0;34m\u001B[0m\u001B[0;34m\u001B[0m\u001B[0m\n\u001B[0m\u001B[1;32m    723\u001B[0m         for hook in itertools.chain(\n\u001B[1;32m    724\u001B[0m                 \u001B[0m_global_forward_hooks\u001B[0m\u001B[0;34m.\u001B[0m\u001B[0mvalues\u001B[0m\u001B[0;34m(\u001B[0m\u001B[0;34m)\u001B[0m\u001B[0;34m,\u001B[0m\u001B[0;34m\u001B[0m\u001B[0;34m\u001B[0m\u001B[0m\n", "\u001B[0;32m~/work/resources/common/module/transformer.py\u001B[0m in \u001B[0;36mforward\u001B[0;34m(self, tgt, memory, tgt_mask, memory_mask, tgt_key_padding_mask, memory_key_padding_mask)\u001B[0m\n\u001B[1;32m    208\u001B[0m             \u001B[0mtgt\u001B[0m \u001B[0;34m=\u001B[0m \u001B[0mself\u001B[0m\u001B[0;34m.\u001B[0m\u001B[0mnorm3\u001B[0m\u001B[0;34m(\u001B[0m\u001B[0mtgt\u001B[0m\u001B[0;34m)\u001B[0m\u001B[0;34m\u001B[0m\u001B[0;34m\u001B[0m\u001B[0m\n\u001B[1;32m    209\u001B[0m         \u001B[0mtgt\u001B[0m \u001B[0;34m=\u001B[0m \u001B[0mself\u001B[0m\u001B[0;34m.\u001B[0m\u001B[0mlinear2\u001B[0m\u001B[0;34m(\u001B[0m\u001B[0mself\u001B[0m\u001B[0;34m.\u001B[0m\u001B[0mdropout\u001B[0m\u001B[0;34m(\u001B[0m\u001B[0mself\u001B[0m\u001B[0;34m.\u001B[0m\u001B[0mactivation\u001B[0m\u001B[0;34m(\u001B[0m\u001B[0mself\u001B[0m\u001B[0;34m.\u001B[0m\u001B[0mlinear1\u001B[0m\u001B[0;34m(\u001B[0m\u001B[0mtgt\u001B[0m\u001B[0;34m)\u001B[0m\u001B[0;34m)\u001B[0m\u001B[0;34m)\u001B[0m\u001B[0;34m)\u001B[0m\u001B[0;34m\u001B[0m\u001B[0;34m\u001B[0m\u001B[0m\n\u001B[0;32m--> 210\u001B[0;31m         \u001B[0mtgt\u001B[0m \u001B[0;34m=\u001B[0m \u001B[0mself\u001B[0m\u001B[0;34m.\u001B[0m\u001B[0mdropout3\u001B[0m\u001B[0;34m(\u001B[0m\u001B[0mtgt\u001B[0m\u001B[0;34m)\u001B[0m\u001B[0;34m\u001B[0m\u001B[0;34m\u001B[0m\u001B[0m\n\u001B[0m\u001B[1;32m    211\u001B[0m         \u001B[0mtgt\u001B[0m \u001B[0;34m=\u001B[0m \u001B[0mresidual\u001B[0m \u001B[0;34m+\u001B[0m \u001B[0mtgt\u001B[0m\u001B[0;34m\u001B[0m\u001B[0;34m\u001B[0m\u001B[0m\n\u001B[1;32m    212\u001B[0m         \u001B[0;32mif\u001B[0m \u001B[0;32mnot\u001B[0m \u001B[0mself\u001B[0m\u001B[0;34m.\u001B[0m\u001B[0mnormalize_before\u001B[0m\u001B[0;34m:\u001B[0m\u001B[0;34m\u001B[0m\u001B[0;34m\u001B[0m\u001B[0m\n", "\u001B[0;32m/usr/local/lib/python3.7/dist-packages/torch/nn/modules/module.py\u001B[0m in \u001B[0;36m_call_impl\u001B[0;34m(self, *input, **kwargs)\u001B[0m\n\u001B[1;32m    720\u001B[0m             \u001B[0mresult\u001B[0m \u001B[0;34m=\u001B[0m \u001B[0mself\u001B[0m\u001B[0;34m.\u001B[0m\u001B[0m_slow_forward\u001B[0m\u001B[0;34m(\u001B[0m\u001B[0;34m*\u001B[0m\u001B[0minput\u001B[0m\u001B[0;34m,\u001B[0m \u001B[0;34m**\u001B[0m\u001B[0mkwargs\u001B[0m\u001B[0;34m)\u001B[0m\u001B[0;34m\u001B[0m\u001B[0;34m\u001B[0m\u001B[0m\n\u001B[1;32m    721\u001B[0m         \u001B[0;32melse\u001B[0m\u001B[0;34m:\u001B[0m\u001B[0;34m\u001B[0m\u001B[0;34m\u001B[0m\u001B[0m\n\u001B[0;32m--> 722\u001B[0;31m             \u001B[0mresult\u001B[0m \u001B[0;34m=\u001B[0m \u001B[0mself\u001B[0m\u001B[0;34m.\u001B[0m\u001B[0mforward\u001B[0m\u001B[0;34m(\u001B[0m\u001B[0;34m*\u001B[0m\u001B[0minput\u001B[0m\u001B[0;34m,\u001B[0m \u001B[0;34m**\u001B[0m\u001B[0mkwargs\u001B[0m\u001B[0;34m)\u001B[0m\u001B[0;34m\u001B[0m\u001B[0;34m\u001B[0m\u001B[0m\n\u001B[0m\u001B[1;32m    723\u001B[0m         for hook in itertools.chain(\n\u001B[1;32m    724\u001B[0m                 \u001B[0m_global_forward_hooks\u001B[0m\u001B[0;34m.\u001B[0m\u001B[0mvalues\u001B[0m\u001B[0;34m(\u001B[0m\u001B[0;34m)\u001B[0m\u001B[0;34m,\u001B[0m\u001B[0;34m\u001B[0m\u001B[0;34m\u001B[0m\u001B[0m\n", "\u001B[0;32m/usr/local/lib/python3.7/dist-packages/torch/nn/modules/dropout.py\u001B[0m in \u001B[0;36mforward\u001B[0;34m(self, input)\u001B[0m\n\u001B[1;32m     56\u001B[0m \u001B[0;34m\u001B[0m\u001B[0m\n\u001B[1;32m     57\u001B[0m     \u001B[0;32mdef\u001B[0m \u001B[0mforward\u001B[0m\u001B[0;34m(\u001B[0m\u001B[0mself\u001B[0m\u001B[0;34m,\u001B[0m \u001B[0minput\u001B[0m\u001B[0;34m:\u001B[0m \u001B[0mTensor\u001B[0m\u001B[0;34m)\u001B[0m \u001B[0;34m->\u001B[0m \u001B[0mTensor\u001B[0m\u001B[0;34m:\u001B[0m\u001B[0;34m\u001B[0m\u001B[0;34m\u001B[0m\u001B[0m\n\u001B[0;32m---> 58\u001B[0;31m         \u001B[0;32mreturn\u001B[0m \u001B[0mF\u001B[0m\u001B[0;34m.\u001B[0m\u001B[0mdropout\u001B[0m\u001B[0;34m(\u001B[0m\u001B[0minput\u001B[0m\u001B[0;34m,\u001B[0m \u001B[0mself\u001B[0m\u001B[0;34m.\u001B[0m\u001B[0mp\u001B[0m\u001B[0;34m,\u001B[0m \u001B[0mself\u001B[0m\u001B[0;34m.\u001B[0m\u001B[0mtraining\u001B[0m\u001B[0;34m,\u001B[0m \u001B[0mself\u001B[0m\u001B[0;34m.\u001B[0m\u001B[0minplace\u001B[0m\u001B[0;34m)\u001B[0m\u001B[0;34m\u001B[0m\u001B[0;34m\u001B[0m\u001B[0m\n\u001B[0m\u001B[1;32m     59\u001B[0m \u001B[0;34m\u001B[0m\u001B[0m\n\u001B[1;32m     60\u001B[0m \u001B[0;34m\u001B[0m\u001B[0m\n", "\u001B[0;31mKeyboardInterrupt\u001B[0m: " ]
    } ],
    "execution_count" : 401
  }, {
    "cell_type" : "code",
    "source" : "#!g1.1\n",
    "metadata" : {
      "cellId" : "lw97pniyuol0a4n4cm4e4jp",
      "trusted" : true
    },
    "outputs" : [ ],
    "execution_count" : null
  } ]
}